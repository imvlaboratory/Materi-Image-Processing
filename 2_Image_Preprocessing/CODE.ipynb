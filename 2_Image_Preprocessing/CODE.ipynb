{
 "cells": [
  {
   "cell_type": "markdown",
   "metadata": {},
   "source": [
    "**Import Libarry**"
   ]
  },
  {
   "cell_type": "code",
   "execution_count": 24,
   "metadata": {},
   "outputs": [],
   "source": [
    "import cv2\n",
    "import matplotlib.pyplot as plt"
   ]
  },
  {
   "cell_type": "markdown",
   "metadata": {},
   "source": [
    "**Rotate Image**"
   ]
  },
  {
   "cell_type": "code",
   "execution_count": 25,
   "metadata": {},
   "outputs": [],
   "source": [
    "img = cv2.imread(\"../assets/Wednesday.jpeg\")\n",
    "\n",
    "imgRotate90Clokwise = cv2.rotate(img, cv2.ROTATE_90_CLOCKWISE)\n",
    "imgRotate90CounterClowise = cv2.rotate(img, cv2.ROTATE_90_COUNTERCLOCKWISE)\n",
    "imgRotate180 = cv2.rotate(img, cv2.ROTATE_180)\n",
    "\n",
    "cv2.imshow('Normal', img)\n",
    "cv2.imshow('Rotate 90 Clockwise', imgRotate90Clokwise)\n",
    "cv2.imshow('Rotate 90 Counter Clockwise', imgRotate90CounterClowise)\n",
    "cv2.imshow('Rotate 180', imgRotate180 )\n",
    "\n",
    "cv2.waitKey(0)\n",
    "cv2.destroyAllWindows()\n"
   ]
  },
  {
   "cell_type": "markdown",
   "metadata": {},
   "source": [
    "**Flip Image**"
   ]
  },
  {
   "cell_type": "code",
   "execution_count": 26,
   "metadata": {},
   "outputs": [],
   "source": [
    "img = cv2.imread(\"../assets/Enid.jpeg\")\n",
    "\n",
    "imgFlipHorizontal = cv2.flip(img, 1)\n",
    "imgFlipVertical = cv2.flip(img, 0)\n",
    "imgFlipBoth = cv2.flip(img, -1)\n",
    "# imgTranspose = cv2.transpose(img)\n",
    "\n",
    "cv2.imshow('No Flip', img)\n",
    "cv2.imshow('Flip Horizontal', imgFlipHorizontal )\n",
    "cv2.imshow('Flip Vertical', imgFlipVertical)\n",
    "cv2.imshow('Flip Horizontal & Vertical', imgFlipBoth)\n",
    "# cv2.imshow('Transpose', imgTranspose)\n",
    "\n",
    "cv2.waitKey(0)\n",
    "cv2.destroyAllWindows()"
   ]
  },
  {
   "cell_type": "markdown",
   "metadata": {},
   "source": [
    "**Resize & Interpolation Method**"
   ]
  },
  {
   "cell_type": "code",
   "execution_count": 27,
   "metadata": {},
   "outputs": [],
   "source": [
    "img = cv2.imread(\"../assets/Patrick.jpeg\")\n",
    "\n",
    "half = cv2.resize(img, (0, 0), fx=0.5, fy=0.5, interpolation=cv2.INTER_AREA)\n",
    "bigger = cv2.resize(img, (0, 0), fx=1.5, fy=1.5, interpolation=cv2.INTER_LINEAR)\n",
    "stretch = cv2.resize(img, (500, 1000), interpolation=cv2.INTER_CUBIC)\n",
    "\n",
    "cv2.imshow('Original', img)\n",
    "cv2.imshow('Half Size', half)\n",
    "cv2.imshow('Bigger Size', bigger)\n",
    "cv2.imshow('Stretch', stretch)\n",
    "\n",
    "cv2.waitKey(0)\n",
    "cv2.destroyAllWindows()"
   ]
  },
  {
   "cell_type": "markdown",
   "metadata": {},
   "source": [
    "**Others Color Spaces**"
   ]
  },
  {
   "cell_type": "code",
   "execution_count": 33,
   "metadata": {},
   "outputs": [],
   "source": [
    "img = cv2.imread(\"../assets/Ferrari.jpg\")\n",
    "\n",
    "BGR = cv2.cvtColor(img, cv2.COLOR_RGB2BGR)\n",
    "GRAY = cv2.cvtColor(img, cv2.COLOR_RGB2GRAY)\n",
    "HSV = cv2.cvtColor(img, cv2.COLOR_RGB2HSV)\n",
    "LAB = cv2.cvtColor(img, cv2.COLOR_RGB2LAB)\n",
    "\n",
    "cv2.imshow('RGB', img)\n",
    "cv2.imshow('BGR', BGR)\n",
    "cv2.imshow('GRAY', GRAY)\n",
    "cv2.imshow('HSV', HSV)\n",
    "cv2.imshow('LAB', LAB)\n",
    "\n",
    "cv2.waitKey(0)\n",
    "cv2.destroyAllWindows()"
   ]
  },
  {
   "cell_type": "markdown",
   "metadata": {},
   "source": [
    "**Histogram**"
   ]
  },
  {
   "cell_type": "code",
   "execution_count": null,
   "metadata": {},
   "outputs": [],
   "source": [
    "img = cv2.imread(\"../assets/Ferrari.jpg\")\n",
    "\n",
    "histoBlue = cv2.calcHist([img], [0], None, [256], [0, 256])\n",
    "histoGreen = cv2.calcHist([img], [1], None, [256], [0, 256])\n",
    "histoRed = cv2.calcHist([img], [2], None, [256], [0, 256])\n",
    "\n",
    "plt.figure(figsize=(6, 6))\n",
    "\n",
    "plt.subplot(2, 1, 1)\n",
    "plt.imshow(cv2.cvtColor(img, cv2.COLOR_BGR2RGB))\n",
    "plt.title('Original Image')\n",
    "\n",
    "plt.subplot(2, 1, 2)\n",
    "plt.plot(histoBlue, color='blue')\n",
    "plt.plot(histoGreen, color='green')\n",
    "plt.plot(histoRed, color='red')\n",
    "plt.title('Histogram')\n",
    "\n",
    "plt.tight_layout()\n",
    "plt.show()"
   ]
  }
 ],
 "metadata": {
  "kernelspec": {
   "display_name": "Python 3",
   "language": "python",
   "name": "python3"
  },
  "language_info": {
   "codemirror_mode": {
    "name": "ipython",
    "version": 3
   },
   "file_extension": ".py",
   "mimetype": "text/x-python",
   "name": "python",
   "nbconvert_exporter": "python",
   "pygments_lexer": "ipython3",
   "version": "3.12.7"
  }
 },
 "nbformat": 4,
 "nbformat_minor": 2
}
